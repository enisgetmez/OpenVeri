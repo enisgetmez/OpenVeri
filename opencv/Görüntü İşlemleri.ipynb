{
 "cells": [
  {
   "cell_type": "markdown",
   "metadata": {},
   "source": [
    "OpenCV'ye Başlarken\n",
    "===\n",
    "\n",
    "## Görüntü Okumak\n",
    "\n",
    "Bir görüntüyü okumak için `cv2.imread ()` işlevini kullanırız."
   ]
  },
  {
   "cell_type": "code",
   "execution_count": 1,
   "metadata": {},
   "outputs": [],
   "source": [
    "import cv2\n",
    "import numpy as np"
   ]
  },
  {
   "cell_type": "code",
   "execution_count": 2,
   "metadata": {},
   "outputs": [],
   "source": [
    "# ilk argüman yüklenecek resimdir\n",
    "# 2. argüman argümanı görüntünün rengidir\n",
    "     # cv2.IMREAD_COLOR renkli bir resim yükler\n",
    "     # cv2.IMREAD_GRAYSCALE görüntüyü gri tonlamalı olarak yükler\n",
    "image = cv2.imread('../assets/resim.jpg', cv2.IMREAD_COLOR)"
   ]
  },
  {
   "cell_type": "markdown",
   "metadata": {},
   "source": [
    "## Bir Görüntüyü Görüntülemek\n",
    "\n",
    "Bir resmi görüntülemek için `cv2.imshow ()` işlevini kullanırız."
   ]
  },
  {
   "cell_type": "code",
   "execution_count": 3,
   "metadata": {},
   "outputs": [],
   "source": [
    "cv2.imshow('image', image)\n",
    "cv2.waitKey(0)\n",
    "cv2.destroyAllWindows()"
   ]
  },
  {
   "cell_type": "markdown",
   "metadata": {},
   "source": [
    "`cv2.waitKey ()` bir klavye bağlama işlevidir; bu, herhangi bir klavye olayı için belirli bir süre (milisaniye cinsinden) beklediği anlamına gelir. Zaman içerisinde herhangi bir tuşa basıldığında program devam eder. Eğer “0” geçerse, süresiz olarak bekler.\n",
    "\n",
    "`cv2.destroyAllWindows ()`, oluşturulan tüm pencereleri yok eder. Belirli bir pencereyi silmek için, argüman olarak geçirilen pencere ismiyle `cv2.destroyWindow ()` kullanın."
   ]
  },
  {
   "cell_type": "code",
   "execution_count": 4,
   "metadata": {},
   "outputs": [],
   "source": [
    "cv2.namedWindow('image', cv2.WINDOW_NORMAL)\n",
    "cv2.imshow('image', image)\n",
    "cv2.waitKey(0)\n",
    "cv2.destroyWindow('image')"
   ]
  },
  {
   "cell_type": "markdown",
   "metadata": {},
   "source": [
    "`cv2.namedWindow()` bir görüntünün yüklenebileceği bir pencere oluşturur. Pencerenin yeniden boyutlandırılabilir olup olmadığı belirtilebilir. Varsayılan bayrak `cv2.WINDOW_AUTOSIZE` dır. Bu arada, bayrağı `cv2.WINDOW_NORMAL` olarak belirtirseniz, pencere yeniden boyutlandırılabilir."
   ]
  },
  {
   "cell_type": "markdown",
   "metadata": {},
   "source": [
    "## Görüntüyü Kaydetmek\n",
    "\n",
    "Bir görüntüyü kaydetmek için `cv2.imwrite()` işlevini kullanırız.\n",
    "\n",
    "İlk argüman dosya adı, ikincisi ise kaydedilecek resimdir."
   ]
  },
  {
   "cell_type": "code",
   "execution_count": 5,
   "metadata": {},
   "outputs": [
    {
     "data": {
      "text/plain": [
       "True"
      ]
     },
     "execution_count": 5,
     "metadata": {},
     "output_type": "execute_result"
    }
   ],
   "source": [
    "image = cv2.imread('../assets/enis.jpg', cv2.IMREAD_GRAYSCALE)\n",
    "cv2.imwrite('enis_grayscale.jpg', image)"
   ]
  },
  {
   "cell_type": "markdown",
   "metadata": {},
   "source": [
    "## Özet\n",
    "\n",
    "Resmimizi gri tonlamalı olarak yükleyelim, görüntüleyelim, sonra kaydedelim."
   ]
  },
  {
   "cell_type": "code",
   "execution_count": 6,
   "metadata": {},
   "outputs": [],
   "source": [
    "image = cv2.imread('../assets/enis.jpg', cv2.IMREAD_GRAYSCALE)\n",
    "cv2.imshow('image', image)\n",
    "\n",
    "k = cv2.waitKey(0)\n",
    "\n",
    "if k == 27:    # esc tuşuna basınca çıkış yapılır\n",
    "    cv2.destroyAllWindows()\n",
    "elif k == ord('s'):    # s tuşuna basılırsa görüntü kaydedilip çıkış yapılır\n",
    "    cv2.imwrite('enis_grayscale.jpg', image)\n",
    "    cv2.destroyAllWindows()"
   ]
  },
  {
   "cell_type": "markdown",
   "metadata": {},
   "source": [
    "## OpenCV’de video\n",
    "\n",
    "### Kameradan Video Çekme\n",
    "\n",
    "Bir video çekmek için bir `cv2.VideoCapture` nesnesi oluşturmamız gerekiyor. Bunun argümanı cihaz dizini veya bir video dosyasının adı olabilir."
   ]
  },
  {
   "cell_type": "code",
   "execution_count": 7,
   "metadata": {},
   "outputs": [],
   "source": [
    "import cv2\n",
    "import numpy as np\n",
    "\n",
    "cap = cv2.VideoCapture(0) #kameranın bağlı olduğu port\n",
    "\n",
    "while True:\n",
    "    \n",
    "    _, frame = cap.read()\n",
    "    \n",
    "    cv2.imshow('webcam', frame) # kamerayı göster\n",
    "    \n",
    "    if cv2.waitKey(1) == 27:\n",
    "        break\n",
    "        \n",
    "cap.release()\n",
    "cv2.destroyAllWindows()"
   ]
  }
 ],
 "metadata": {
  "kernelspec": {
   "display_name": "Python 3",
   "language": "python",
   "name": "python3"
  },
  "language_info": {
   "codemirror_mode": {
    "name": "ipython",
    "version": 3
   },
   "file_extension": ".py",
   "mimetype": "text/x-python",
   "name": "python",
   "nbconvert_exporter": "python",
   "pygments_lexer": "ipython3",
   "version": "3.5.4"
  }
 },
 "nbformat": 4,
 "nbformat_minor": 2
}
