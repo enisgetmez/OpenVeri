{
 "cells": [
  {
   "cell_type": "markdown",
   "metadata": {},
   "source": [
    "OpenCV'de Core(Çekirdek) İşlemleri\n",
    "===\n",
    "\n",
    "resimlerin içinde bulunan temel ve aritmetik işlemleri öğreniriz."
   ]
  },
  {
   "cell_type": "code",
   "execution_count": 1,
   "metadata": {},
   "outputs": [],
   "source": [
    "import cv2\n",
    "import numpy as np"
   ]
  },
  {
   "cell_type": "markdown",
   "metadata": {},
   "source": [
    "## Görüntü Özelliklerine Erişim\n",
    "\n",
    "Bir görüntünün şekline bir diziye erişiyormuş gibi erişilebilir, `image.shape`. Görüntü bir gri tonlama değilse, satır, sütun ve kanal sayısının bir demetini döndürür."
   ]
  },
  {
   "cell_type": "code",
   "execution_count": 2,
   "metadata": {},
   "outputs": [
    {
     "name": "stdout",
     "output_type": "stream",
     "text": [
      "(1182, 1000, 3)\n"
     ]
    }
   ],
   "source": [
    "image = cv2.imread('../assets/enis.jpg')\n",
    "\n",
    "print(image.shape)"
   ]
  },
  {
   "cell_type": "markdown",
   "metadata": {},
   "source": [
    "Görüntü gri tonluysa, yalnızca `ROWxCOL` döndürür. Bu nedenle, görüntünün gri tonlamalı veya renkli olup olmadığını kontrol etmek için kullanılabilir."
   ]
  },
  {
   "cell_type": "markdown",
   "metadata": {},
   "source": [
    "Toplam piksel sayısını elde etmek için."
   ]
  },
  {
   "cell_type": "code",
   "execution_count": 3,
   "metadata": {},
   "outputs": [
    {
     "name": "stdout",
     "output_type": "stream",
     "text": [
      "3546000\n"
     ]
    }
   ],
   "source": [
    "print(image.size)"
   ]
  },
  {
   "cell_type": "markdown",
   "metadata": {},
   "source": [
    "Görüntü veri tipini almak için."
   ]
  },
  {
   "cell_type": "code",
   "execution_count": 4,
   "metadata": {},
   "outputs": [
    {
     "name": "stdout",
     "output_type": "stream",
     "text": [
      "uint8\n"
     ]
    }
   ],
   "source": [
    "print(image.dtype)"
   ]
  },
  {
   "cell_type": "markdown",
   "metadata": {},
   "source": [
    "## Piksel Değerlerine Erişim ve Değiştirme"
   ]
  },
  {
   "cell_type": "markdown",
   "metadata": {},
   "source": [
    "Bir piksel değerine satır ve sütun koordinatlarıyla erişebiliriz. RGB görüntüsü için, Mavi, Yeşil, Kırmızı değerleri dizisini döndürür. Gri tonlamalı görüntü için, sadece karşılık gelen yoğunluk döndürülür."
   ]
  },
  {
   "cell_type": "code",
   "execution_count": 5,
   "metadata": {},
   "outputs": [],
   "source": [
    "pixel = image[261, 302]"
   ]
  },
  {
   "cell_type": "code",
   "execution_count": 6,
   "metadata": {},
   "outputs": [
    {
     "name": "stdout",
     "output_type": "stream",
     "text": [
      "[157 187 236]\n"
     ]
    }
   ],
   "source": [
    "print(pixel)"
   ]
  },
  {
   "cell_type": "code",
   "execution_count": 7,
   "metadata": {},
   "outputs": [
    {
     "name": "stdout",
     "output_type": "stream",
     "text": [
      "157\n",
      "187\n",
      "236\n"
     ]
    }
   ],
   "source": [
    "# yalnızca mavi piksele erişmek\n",
    "print(pixel[0])\n",
    "\n",
    "# yalnızca yeşil piksele erişmek\n",
    "print(pixel[1])\n",
    "\n",
    "# yalnızca kırmızı piksele erişmek\n",
    "print(pixel[2])"
   ]
  },
  {
   "cell_type": "code",
   "execution_count": 8,
   "metadata": {},
   "outputs": [],
   "source": [
    "cv2.imshow('pixel', pixel)\n",
    "cv2.waitKey(0)\n",
    "cv2.destroyAllWindows()"
   ]
  },
  {
   "cell_type": "code",
   "execution_count": 9,
   "metadata": {},
   "outputs": [],
   "source": [
    "pixel = 0\n",
    "\n",
    "cv2.imshow('pixel', pixel)\n",
    "cv2.waitKey(0)\n",
    "cv2.destroyAllWindows()"
   ]
  },
  {
   "cell_type": "markdown",
   "metadata": {},
   "source": [
    "## İlgi Bölgesi"
   ]
  },
  {
   "cell_type": "code",
   "execution_count": 10,
   "metadata": {},
   "outputs": [],
   "source": [
    "# sadece insan yüzüne ait piksel bölgelerine erişmek\n",
    "kırp = image[302:(302 + 322), 261:(261 + 339)]"
   ]
  },
  {
   "cell_type": "code",
   "execution_count": 11,
   "metadata": {},
   "outputs": [],
   "source": [
    "cv2.namedWindow('image', cv2.WINDOW_NORMAL)\n",
    "cv2.namedWindow('kırpılmış', cv2.WINDOW_NORMAL)\n",
    "cv2.imshow('image', image)\n",
    "cv2.imshow('kırpılmış', kırp)\n",
    "cv2.waitKey(0)\n",
    "cv2.destroyAllWindows()"
   ]
  },
  {
   "cell_type": "code",
   "execution_count": 12,
   "metadata": {},
   "outputs": [],
   "source": [
    "from_center = False\n",
    "region = cv2.selectROI(image, from_center)\n",
    "cv2.waitKey(0)\n",
    "cv2.destroyAllWindows()"
   ]
  },
  {
   "cell_type": "code",
   "execution_count": 13,
   "metadata": {},
   "outputs": [
    {
     "name": "stdout",
     "output_type": "stream",
     "text": [
      "(261, 285, 344, 376)\n"
     ]
    }
   ],
   "source": [
    "print(region)"
   ]
  },
  {
   "cell_type": "code",
   "execution_count": 14,
   "metadata": {},
   "outputs": [],
   "source": [
    "kırp = image[region[1]:(region[1] + region[3]), region[0]:(region[0] + region[2])]"
   ]
  },
  {
   "cell_type": "code",
   "execution_count": 15,
   "metadata": {},
   "outputs": [],
   "source": [
    "cv2.namedWindow('image', cv2.WINDOW_NORMAL)\n",
    "cv2.namedWindow('kırpılmış', cv2.WINDOW_NORMAL)\n",
    "cv2.imshow('image', image)\n",
    "cv2.imshow('kırpılmış', kırp)\n",
    "cv2.waitKey(0)\n",
    "cv2.destroyAllWindows()"
   ]
  },
  {
   "cell_type": "markdown",
   "metadata": {},
   "source": [
    "## Görüntü Kanallarını Bölme ve Birleştirme\n",
    "\n",
    "RGB kanalları gerektiğinde kendi düzlemlerine ayrılabilir. Yine RGB oluşturmak için de birleştirilebilir."
   ]
  },
  {
   "cell_type": "code",
   "execution_count": 16,
   "metadata": {},
   "outputs": [],
   "source": [
    "mavi, yesil, kirmizi = cv2.split(image)"
   ]
  },
  {
   "cell_type": "code",
   "execution_count": 17,
   "metadata": {},
   "outputs": [],
   "source": [
    "cv2.imshow('mavi_kanal', mavi)\n",
    "cv2.waitKey(0)\n",
    "cv2.destroyAllWindows()"
   ]
  },
  {
   "cell_type": "code",
   "execution_count": 18,
   "metadata": {},
   "outputs": [],
   "source": [
    "cv2.imshow('kırmızı_kanal', kirmizi)\n",
    "cv2.waitKey(0)\n",
    "cv2.destroyAllWindows()"
   ]
  },
  {
   "cell_type": "code",
   "execution_count": 19,
   "metadata": {},
   "outputs": [],
   "source": [
    "cv2.imshow('yeşil_kanal', yesil)\n",
    "cv2.waitKey(0)\n",
    "cv2.destroyAllWindows()"
   ]
  },
  {
   "cell_type": "code",
   "execution_count": 20,
   "metadata": {},
   "outputs": [],
   "source": [
    "image = cv2.merge((mavi, yesil, kirmizi))\n",
    "\n",
    "cv2.imshow('merged_back', image)\n",
    "cv2.waitKey(0)\n",
    "cv2.destroyAllWindows()"
   ]
  },
  {
   "cell_type": "markdown",
   "metadata": {},
   "source": [
    "`Cv2.split()`ve `cv2.merge()`kullanmak hesaplama açısından zordur,bunun yerine NumPy dilimlemeyi kullanabiliriz."
   ]
  },
  {
   "cell_type": "code",
   "execution_count": 21,
   "metadata": {},
   "outputs": [],
   "source": [
    "mavi = image[:, :, 0]\n",
    "\n",
    "cv2.imshow('mavi_kanal', mavi)\n",
    "cv2.waitKey(0)\n",
    "cv2.destroyAllWindows()"
   ]
  },
  {
   "cell_type": "code",
   "execution_count": 22,
   "metadata": {},
   "outputs": [],
   "source": [
    "yesil = image[:, :, 1]\n",
    "\n",
    "cv2.imshow('yeşil_kanal', yesil)\n",
    "cv2.waitKey(0)\n",
    "cv2.destroyAllWindows()"
   ]
  },
  {
   "cell_type": "code",
   "execution_count": 23,
   "metadata": {},
   "outputs": [],
   "source": [
    "kirmizi = image[:, :, 2]\n",
    "\n",
    "cv2.imshow('kırmızı_kanal', red)\n",
    "cv2.waitKey(0)\n",
    "cv2.destroyAllWindows()"
   ]
  },
  {
   "cell_type": "markdown",
   "metadata": {},
   "source": [
    "NumPy dilimlemeyi bir görüntü kanalına erişmenin bir yolu olarak da kullanabiliriz."
   ]
  },
  {
   "cell_type": "code",
   "execution_count": 24,
   "metadata": {},
   "outputs": [],
   "source": [
    "# kırmızı kanalı değiştir\n",
    "image[:, :, 2] = 0\n",
    "\n",
    "cv2.imshow('modified_kırmızı_kanal', image)\n",
    "cv2.waitKey(0)\n",
    "cv2.destroyAllWindows()"
   ]
  },
  {
   "cell_type": "markdown",
   "metadata": {},
   "source": [
    "## Resim Ekleme\n",
    "\n",
    "`Cv2.add ()` kullanarak görüntüleri ekleyebiliriz. Ancak her iki görüntünün de aynı boyutta olması gerekir."
   ]
  },
  {
   "cell_type": "code",
   "execution_count": 25,
   "metadata": {},
   "outputs": [],
   "source": [
    "enis = cv2.imread('../assets/enis.jpg')\n",
    "ali = cv2.imread('../assets/ali.png')"
   ]
  },
  {
   "cell_type": "code",
   "execution_count": 26,
   "metadata": {},
   "outputs": [],
   "source": [
    "enis_ali = cv2.add(enis, ali)\n",
    "\n",
    "cv2.imshow('ekle', enis_ali)\n",
    "cv2.waitKey(0)\n",
    "cv2.destroyAllWindows()"
   ]
  },
  {
   "cell_type": "markdown",
   "metadata": {},
   "source": [
    "## Görüntü karıştırma\n",
    "\n",
    "Bu aynı zamanda görüntü eklemedir, ancak görüntülere verilen farklı ağırlıklar vardır. Denklem aşağıdaki gibidir\n",
    "\n",
    "$$ g(x) = (1 - \\alpha)\\ f_{0}(x) + \\alpha\\ f_{1}(x) $$\n",
    "\n",
    "$ \\ Alpha $ değerini 0 $ \\ rightarrow $ 1 ile değiştirerek, görüntüler arasında bir \"geçiş hissi\" verir.\n",
    "\n",
    "Örneğimize göre, birlikte harmanlamak için iki resim çekiyoruz. İlk görüntüye 0.7, ikinci görüntüye 0.3 ağırlık atarız. `Cv2.addWeighted ()` kullanarak aşağıdaki denklemi uygular\n",
    "\n",
    "$$ dst = \\alpha \\cdot img1 + \\beta \\cdot img2 + \\gamma $$ "
   ]
  },
  {
   "cell_type": "code",
   "execution_count": 27,
   "metadata": {},
   "outputs": [],
   "source": [
    "blend = cv2.addWeighted(enis, 0.7, ali, 0.3, 0)"
   ]
  },
  {
   "cell_type": "code",
   "execution_count": 28,
   "metadata": {},
   "outputs": [],
   "source": [
    "cv2.imshow('blend', blend)\n",
    "cv2.waitKey(0)\n",
    "cv2.destroyAllWindows()"
   ]
  },
  {
   "cell_type": "markdown",
   "metadata": {},
   "source": [
    "## Bitsel İşlem"
   ]
  },
  {
   "cell_type": "code",
   "execution_count": 29,
   "metadata": {},
   "outputs": [],
   "source": [
    "# kullanılacak logoyu yükle\n",
    "artificaid = cv2.imread('../assets/artificaid.jpg')"
   ]
  },
  {
   "cell_type": "code",
   "execution_count": 30,
   "metadata": {},
   "outputs": [
    {
     "name": "stdout",
     "output_type": "stream",
     "text": [
      "(823, 638, 3)\n"
     ]
    }
   ],
   "source": [
    "# logo şeklini göster\n",
    "print(artificaid.shape)"
   ]
  },
  {
   "cell_type": "code",
   "execution_count": 31,
   "metadata": {},
   "outputs": [],
   "source": [
    "# Enis resminin bir şekli olduğunu bilerek # (1182, 1000, 3)\n",
    "# logo resim için oldukça büyük\n",
    "# yeniden boyutlandıralım\n",
    "artificaid = cv2.resize(artificaid, (int(artificaid.shape[1] * 0.25), int(artificaid.shape[0] * 0.25)))"
   ]
  },
  {
   "cell_type": "code",
   "execution_count": 32,
   "metadata": {},
   "outputs": [
    {
     "name": "stdout",
     "output_type": "stream",
     "text": [
      "(205, 159, 3)\n"
     ]
    }
   ],
   "source": [
    "print(artificaid.shape)"
   ]
  },
  {
   "cell_type": "code",
   "execution_count": 33,
   "metadata": {},
   "outputs": [],
   "source": [
    "# logo özelliklerini almak\n",
    "rows, cols, channels = artificaid.shape"
   ]
  },
  {
   "cell_type": "code",
   "execution_count": 34,
   "metadata": {},
   "outputs": [],
   "source": [
    "# logoyu sol üst köşeye koyalım\n",
    "roi = enis[0:rows, 0:cols]\n",
    "\n",
    "cv2.imshow('roi', roi)\n",
    "cv2.waitKey(0)\n",
    "cv2.destroyAllWindows()"
   ]
  },
  {
   "cell_type": "code",
   "execution_count": 35,
   "metadata": {},
   "outputs": [],
   "source": [
    "# logonun maskesini oluştur\n",
    "\n",
    "#, eşikleme için görüntüyü gri tonlamaya dönüştürür\n",
    "artificaid_gray = cv2.cvtColor(artificaid, cv2.COLOR_BGR2GRAY)\n",
    "\n",
    "# ilk argüman kaynak görüntüdür\n",
    "# second argümanı eşik değeridir\n",
    "# üçüncü değişken eşiğe ulaşıldığında kullanılacak değerdir\n",
    "# cv2.THRESH_BINARY_INV, üçüncü argümanın durumunu tersine çevirir\n",
    "ret, mask = cv2.threshold(artificaid_gray, 220, 255, cv2.THRESH_BINARY_INV)\n",
    "\n",
    "cv2.imshow('mask', mask)\n",
    "cv2.waitKey(0)\n",
    "cv2.destroyAllWindows()"
   ]
  },
  {
   "cell_type": "code",
   "execution_count": 36,
   "metadata": {},
   "outputs": [],
   "source": [
    "#ters maske yarat\n",
    "mask_inv = cv2.bitwise_not(mask)\n",
    "\n",
    "cv2.imshow('mask_inv', mask_inv)\n",
    "cv2.waitKey(0)\n",
    "cv2.destroyAllWindows()"
   ]
  },
  {
   "cell_type": "code",
   "execution_count": 37,
   "metadata": {},
   "outputs": [],
   "source": [
    "#logo alanını karartmak\n",
    "enis_bg = cv2.bitwise_and(roi, roi, mask=mask_inv)\n",
    "\n",
    "cv2.imshow('enis_bg', enis_bg)\n",
    "cv2.waitKey(0)\n",
    "cv2.destroyAllWindows()"
   ]
  },
  {
   "cell_type": "code",
   "execution_count": 38,
   "metadata": {},
   "outputs": [],
   "source": [
    "# logo görüntüsünden logo bölgesini al\n",
    "artificaid_fg = cv2.bitwise_and(artificaid, artificaid, mask=mask)\n",
    "\n",
    "cv2.imshow('artificaid_fg', artificaid_fg)\n",
    "cv2.waitKey(0)\n",
    "cv2.destroyAllWindows()"
   ]
  },
  {
   "cell_type": "code",
   "execution_count": 39,
   "metadata": {},
   "outputs": [],
   "source": [
    "# ilgilenilen bölgeye logo koymak\n",
    "dst = cv2.add(enis_bg, enis_fg)\n",
    "enis[0:rows, 0:cols] = dst\n",
    "\n",
    "cv2.namedWindow('enis_artificaid', cv2.WINDOW_NORMAL)\n",
    "cv2.imshow('enis_artificaid', enis)\n",
    "cv2.waitKey(0)\n",
    "cv2.destroyAllWindows()"
   ]
  },
  {
   "cell_type": "markdown",
   "metadata": {},
   "source": [
    "## Alıştırma\n",
    "\n",
    "En iyi resminizi seçin, Artificaid'in logosunu buradan indirin: https://tinyurl.com/artificaid. Ardından, logoyu bit yönünde işlem kullanarak seçtiğiniz resime yerleştirin."
   ]
  },
  {
   "cell_type": "markdown",
   "metadata": {},
   "source": [
    "## Çizim İşlevleri Alıştırmaları"
   ]
  },
  {
   "cell_type": "code",
   "execution_count": 40,
   "metadata": {},
   "outputs": [],
   "source": [
    "artificaid = cv2.imread('../assets/Artificaid.jpg')\n",
    "\n",
    "artificaid = cv2.resize(artificaid, (int(artificaid.shape[1] * 0.25), int(artificaid.shape[0] * 0.25)))\n",
    "\n",
    "rows, cols, _ = artificaid.shape\n",
    "\n",
    "cap = cv2.VideoCapture(0)\n",
    "\n",
    "while True:\n",
    "    ret, frame = cap.read()\n",
    "    \n",
    "    roi = frame[0:rows, 0:cols]\n",
    "    \n",
    "    artificaid_gray = cv2.cvtColor(artificaid, cv2.COLOR_BGR2GRAY)\n",
    "    \n",
    "    ret, mask = cv2.threshold(artificaid_gray, 220, 255, cv2.THRESH_BINARY_INV)\n",
    "    mask_inv = cv2.bitwise_not(mask)\n",
    "    \n",
    "    frame_bg = cv2.bitwise_and(roi, roi, mask=mask_inv)\n",
    "    artificaid_fg = cv2.bitwise_and(artificaid, artificaid, mask=mask)\n",
    "    \n",
    "    dst = cv2.add(frame_bg, artificaid_fg)\n",
    "    frame[0:rows, 0:cols] = dst\n",
    "    \n",
    "    cv2.imshow('bitwise', frame)\n",
    "    \n",
    "    k = cv2.waitKey(1)\n",
    "    \n",
    "    if k == ord('q') or k == 27:\n",
    "        cap.release()\n",
    "        cv2.destroyAllWindows()\n",
    "        break"
   ]
  },
  {
   "cell_type": "markdown",
   "metadata": {},
   "source": [
    "## Görüntü Harmanlama Alıştırması"
   ]
  },
  {
   "cell_type": "code",
   "execution_count": 41,
   "metadata": {},
   "outputs": [],
   "source": [
    "enis = cv2.imread('../assets/Enis.jpg')\n",
    "\n",
    "cap = cv2.VideoCapture(-1)\n",
    "\n",
    "while True:\n",
    "    _, frame = cap.read()\n",
    "    rows, cols, _ = frame.shape\n",
    "    enis = cv2.resize(enis, (int(cols), int(rows)))\n",
    "    blend = cv2.addWeighted(frame, 0.8, enis, 0.2, 0)\n",
    "    cv2.imshow('blend', blend)\n",
    "    \n",
    "    k = cv2.waitKey(1)\n",
    "    \n",
    "    if k == ord('q') or k == 27:\n",
    "        cap.release()\n",
    "        cv2.destroyAllWindows()\n",
    "        break"
   ]
  },
  {
   "cell_type": "markdown",
   "metadata": {},
   "source": [
    "## Kamera Filtreleme"
   ]
  },
  {
   "cell_type": "code",
   "execution_count": 42,
   "metadata": {},
   "outputs": [],
   "source": [
    "# web kamerası için VideoCapture nesnesi oluştur\n",
    "cap = cv2.VideoCapture(0)\n",
    "\n",
    "def apply_invert(frame):\n",
    "    # ters görüntü döndür\n",
    "    return cv2.bitwise_not(frame)\n",
    "\n",
    "def apply_sepia(frame, intensity=0.5):\n",
    "    blue = 20\n",
    "    green = 66\n",
    "    red = 112\n",
    "    # sepia profilini kaplama olarak kullan\n",
    "    frame = apply_color_overlay(frame, intensity=intensity, blue=blue, green=green, red=red)\n",
    "    return frame\n",
    "\n",
    "def verify_alpha_channel(frame):\n",
    "    try:\n",
    "        frame.shape[3]\n",
    "    except IndexError:\n",
    "        # çerçeveyi bir alpha kanalına dönüştürmek\n",
    "        frame = cv2.cvtColor(frame, cv2.COLOR_BGR2BGRA)\n",
    "    return frame\n",
    "\n",
    "def apply_color_overlay(frame, intensity=0.5, blue=0, green=0, red=0):\n",
    "    frame = verify_alpha_channel(frame)\n",
    "    frame_height, frame_width, frame_channel = frame.shape\n",
    "    sepia_bgra = (blue, green, red, 1)\n",
    "\n",
    "    # Renk profiline göre kaplama oluşturmak (mavi, yeşil, kırmızı)\n",
    "    overlay = np.full((frame_height, frame_width, 4), sepia_bgra, dtype='uint8')\n",
    "\n",
    "    # Çerçeveye sepia ekle\n",
    "    frame = cv2.addWeighted(overlay, intensity, frame, 1.0, 0)\n",
    "    frame = cv2.cvtColor(frame, cv2.COLOR_BGRA2BGR)\n",
    "    return frame\n",
    "\n",
    "def alpha_blend(frame_1, frame_2, mask):\n",
    "    # beyaz parçaları ayır\n",
    "    alpha = mask / 255.0\n",
    "    \n",
    "    #  netliği ayarlaamk için arka planı bulanıklaştırmak\n",
    "    blended = cv2.convertScaleAbs(frame_1 * (1 - alpha) + (frame_2 * alpha))\n",
    "    \n",
    "    return blended\n",
    "\n",
    "def apply_portrait_mode(frame):\n",
    "    frame = verify_alpha_channel(frame)\n",
    "    \n",
    "    # gri tonlamaya dönüştür\n",
    "    gray = cv2.cvtColor(frame, cv2.COLOR_BGR2GRAY)\n",
    "    \n",
    "     # 120 eşiğine dayalı bir maske oluşturun\n",
    "     #, eğer bir piksel ulaşırsa veya 120'den büyükse,\n",
    "     # 255 olması için değiştirin\n",
    "    _, mask = cv2.threshold(gray, 120, 255, cv2.THRESH_BINARY)\n",
    "\n",
    "    # alpha kanalına sahip maskeyi değiştir\n",
    "    mask = cv2.cvtColor(mask, cv2.COLOR_GRAY2BGRA)\n",
    "    \n",
    "    # (21, 21) çekirdeği ile bulanıklaştırmak\n",
    "    # 0 stddev\n",
    "    blurred = cv2.GaussianBlur(frame, (21, 21), 0)\n",
    "\n",
    "    # Orijinal çerçeveyi bulanık çerçeveyle harmanlayın\n",
    "    # Odak nesnesini izole etmek için kullanmak maske ile\n",
    "    blended = alpha_blend(frame, blurred, mask)\n",
    "    \n",
    "    # çerçeveyi BGR'ye dönüştür, yani alpha olmadan\n",
    "    frame = cv2.cvtColor(blended, cv2.COLOR_BGRA2BGR)\n",
    "    return frame\n",
    "\n",
    "while True:\n",
    "    ret, frame = cap.read()\n",
    "\n",
    "    invert = apply_invert(frame)\n",
    "    sepia = apply_sepia(frame)\n",
    "    redish_color = apply_color_overlay(frame, intensity=0.5, red=230, blue=10)\n",
    "    portrait_mode = apply_portrait_mode(frame)\n",
    "\n",
    "    cv2.imshow('frame', frame)\n",
    "    cv2.imshow('invert', invert)\n",
    "    cv2.imshow('sepia', sepia)\n",
    "    cv2.imshow('redish_color', redish_color)\n",
    "    cv2.imshow('portrait_mode', portrait_mode)\n",
    "\n",
    "    k = cv2.waitKey(1)\n",
    "\n",
    "    if k == ord('q') or k == 27:\n",
    "        cap.release()\n",
    "        cv2.destroyAllWindows()\n",
    "        break"
   ]
  }
 ],
 "metadata": {
  "kernelspec": {
   "display_name": "Python 3",
   "language": "python",
   "name": "python3"
  },
  "language_info": {
   "codemirror_mode": {
    "name": "ipython",
    "version": 3
   },
   "file_extension": ".py",
   "mimetype": "text/x-python",
   "name": "python",
   "nbconvert_exporter": "python",
   "pygments_lexer": "ipython3",
   "version": "3.5.4"
  }
 },
 "nbformat": 4,
 "nbformat_minor": 2
}
